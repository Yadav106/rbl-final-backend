{
  "cells": [
    {
      "cell_type": "code",
      "execution_count": 2,
      "metadata": {
        "id": "JIOzYKNkOh1t"
      },
      "outputs": [],
      "source": [
        "import pandas as pd\n",
        "import numpy as np\n",
        "import matplotlib.pyplot as plt\n",
        "import tensorflow as tf\n",
        "from tensorflow import keras\n",
        "from tensorflow.keras import layers\n",
        "from sklearn.model_selection import train_test_split\n",
        "from sklearn.preprocessing import LabelEncoder\n",
        "from sklearn.metrics import accuracy_score, precision_score, recall_score, f1_score\n",
        "\n"
      ]
    },
    {
      "cell_type": "code",
      "execution_count": 4,
      "metadata": {
        "id": "4on_iLLLO87q"
      },
      "outputs": [],
      "source": [
        "data = pd.read_csv('keypoint.csv',header=None)"
      ]
    },
    {
      "cell_type": "code",
      "execution_count": 5,
      "metadata": {
        "id": "QfkE0RZmguGd"
      },
      "outputs": [],
      "source": [
        "data[0] = data[0].astype(str)"
      ]
    },
    {
      "cell_type": "code",
      "execution_count": 6,
      "metadata": {
        "colab": {
          "base_uri": "https://localhost:8080/"
        },
        "id": "SyrM0MDTPiGl",
        "outputId": "7189ea03-20f9-4519-d555-84d46e4f2794"
      },
      "outputs": [
        {
          "data": {
            "text/plain": [
              "array(['A', 'B', 'C'], dtype=object)"
            ]
          },
          "execution_count": 6,
          "metadata": {},
          "output_type": "execute_result"
        }
      ],
      "source": [
        "data[0].unique()"
      ]
    },
    {
      "cell_type": "code",
      "execution_count": 7,
      "metadata": {
        "colab": {
          "base_uri": "https://localhost:8080/",
          "height": 487
        },
        "id": "OC5TcyT9U63v",
        "outputId": "a07aab43-c24a-40da-a50e-eef9f04f4f4d"
      },
      "outputs": [
        {
          "data": {
            "text/html": [
              "<div>\n",
              "<style scoped>\n",
              "    .dataframe tbody tr th:only-of-type {\n",
              "        vertical-align: middle;\n",
              "    }\n",
              "\n",
              "    .dataframe tbody tr th {\n",
              "        vertical-align: top;\n",
              "    }\n",
              "\n",
              "    .dataframe thead th {\n",
              "        text-align: right;\n",
              "    }\n",
              "</style>\n",
              "<table border=\"1\" class=\"dataframe\">\n",
              "  <thead>\n",
              "    <tr style=\"text-align: right;\">\n",
              "      <th></th>\n",
              "      <th>1</th>\n",
              "      <th>2</th>\n",
              "      <th>3</th>\n",
              "      <th>4</th>\n",
              "      <th>5</th>\n",
              "      <th>6</th>\n",
              "      <th>7</th>\n",
              "      <th>8</th>\n",
              "      <th>9</th>\n",
              "      <th>10</th>\n",
              "      <th>...</th>\n",
              "      <th>33</th>\n",
              "      <th>34</th>\n",
              "      <th>35</th>\n",
              "      <th>36</th>\n",
              "      <th>37</th>\n",
              "      <th>38</th>\n",
              "      <th>39</th>\n",
              "      <th>40</th>\n",
              "      <th>41</th>\n",
              "      <th>42</th>\n",
              "    </tr>\n",
              "  </thead>\n",
              "  <tbody>\n",
              "    <tr>\n",
              "      <th>0</th>\n",
              "      <td>0.0</td>\n",
              "      <td>0.0</td>\n",
              "      <td>0.315789</td>\n",
              "      <td>-0.184211</td>\n",
              "      <td>0.657895</td>\n",
              "      <td>-0.421053</td>\n",
              "      <td>0.842105</td>\n",
              "      <td>-0.631579</td>\n",
              "      <td>1.0</td>\n",
              "      <td>-0.868421</td>\n",
              "      <td>...</td>\n",
              "      <td>0.263158</td>\n",
              "      <td>0.105263</td>\n",
              "      <td>-0.078947</td>\n",
              "      <td>0.052632</td>\n",
              "      <td>0.210526</td>\n",
              "      <td>0.315789</td>\n",
              "      <td>0.157895</td>\n",
              "      <td>0.315789</td>\n",
              "      <td>0.052632</td>\n",
              "      <td>0.236842</td>\n",
              "    </tr>\n",
              "    <tr>\n",
              "      <th>1</th>\n",
              "      <td>0.0</td>\n",
              "      <td>0.0</td>\n",
              "      <td>-0.272727</td>\n",
              "      <td>-0.204545</td>\n",
              "      <td>-0.590909</td>\n",
              "      <td>-0.386364</td>\n",
              "      <td>-0.818182</td>\n",
              "      <td>-0.522727</td>\n",
              "      <td>-1.0</td>\n",
              "      <td>-0.704545</td>\n",
              "      <td>...</td>\n",
              "      <td>-0.363636</td>\n",
              "      <td>0.136364</td>\n",
              "      <td>-0.068182</td>\n",
              "      <td>0.090909</td>\n",
              "      <td>-0.431818</td>\n",
              "      <td>0.272727</td>\n",
              "      <td>-0.363636</td>\n",
              "      <td>0.295455</td>\n",
              "      <td>-0.250000</td>\n",
              "      <td>0.250000</td>\n",
              "    </tr>\n",
              "    <tr>\n",
              "      <th>2</th>\n",
              "      <td>0.0</td>\n",
              "      <td>0.0</td>\n",
              "      <td>0.289474</td>\n",
              "      <td>-0.184211</td>\n",
              "      <td>0.631579</td>\n",
              "      <td>-0.394737</td>\n",
              "      <td>0.842105</td>\n",
              "      <td>-0.605263</td>\n",
              "      <td>1.0</td>\n",
              "      <td>-0.842105</td>\n",
              "      <td>...</td>\n",
              "      <td>0.210526</td>\n",
              "      <td>0.131579</td>\n",
              "      <td>-0.105263</td>\n",
              "      <td>0.078947</td>\n",
              "      <td>0.157895</td>\n",
              "      <td>0.368421</td>\n",
              "      <td>0.105263</td>\n",
              "      <td>0.342105</td>\n",
              "      <td>0.000000</td>\n",
              "      <td>0.263158</td>\n",
              "    </tr>\n",
              "    <tr>\n",
              "      <th>3</th>\n",
              "      <td>0.0</td>\n",
              "      <td>0.0</td>\n",
              "      <td>-0.295455</td>\n",
              "      <td>-0.204545</td>\n",
              "      <td>-0.590909</td>\n",
              "      <td>-0.409091</td>\n",
              "      <td>-0.818182</td>\n",
              "      <td>-0.545455</td>\n",
              "      <td>-1.0</td>\n",
              "      <td>-0.727273</td>\n",
              "      <td>...</td>\n",
              "      <td>-0.363636</td>\n",
              "      <td>0.090909</td>\n",
              "      <td>-0.090909</td>\n",
              "      <td>0.068182</td>\n",
              "      <td>-0.431818</td>\n",
              "      <td>0.250000</td>\n",
              "      <td>-0.363636</td>\n",
              "      <td>0.272727</td>\n",
              "      <td>-0.227273</td>\n",
              "      <td>0.204545</td>\n",
              "    </tr>\n",
              "    <tr>\n",
              "      <th>4</th>\n",
              "      <td>0.0</td>\n",
              "      <td>0.0</td>\n",
              "      <td>0.315789</td>\n",
              "      <td>-0.210526</td>\n",
              "      <td>0.631579</td>\n",
              "      <td>-0.394737</td>\n",
              "      <td>0.842105</td>\n",
              "      <td>-0.605263</td>\n",
              "      <td>1.0</td>\n",
              "      <td>-0.842105</td>\n",
              "      <td>...</td>\n",
              "      <td>0.236842</td>\n",
              "      <td>0.131579</td>\n",
              "      <td>-0.105263</td>\n",
              "      <td>0.078947</td>\n",
              "      <td>0.184211</td>\n",
              "      <td>0.342105</td>\n",
              "      <td>0.131579</td>\n",
              "      <td>0.315789</td>\n",
              "      <td>0.026316</td>\n",
              "      <td>0.236842</td>\n",
              "    </tr>\n",
              "    <tr>\n",
              "      <th>...</th>\n",
              "      <td>...</td>\n",
              "      <td>...</td>\n",
              "      <td>...</td>\n",
              "      <td>...</td>\n",
              "      <td>...</td>\n",
              "      <td>...</td>\n",
              "      <td>...</td>\n",
              "      <td>...</td>\n",
              "      <td>...</td>\n",
              "      <td>...</td>\n",
              "      <td>...</td>\n",
              "      <td>...</td>\n",
              "      <td>...</td>\n",
              "      <td>...</td>\n",
              "      <td>...</td>\n",
              "      <td>...</td>\n",
              "      <td>...</td>\n",
              "      <td>...</td>\n",
              "      <td>...</td>\n",
              "      <td>...</td>\n",
              "      <td>...</td>\n",
              "    </tr>\n",
              "    <tr>\n",
              "      <th>7664</th>\n",
              "      <td>0.0</td>\n",
              "      <td>0.0</td>\n",
              "      <td>0.281250</td>\n",
              "      <td>-0.250000</td>\n",
              "      <td>0.625000</td>\n",
              "      <td>-0.437500</td>\n",
              "      <td>0.843750</td>\n",
              "      <td>-0.687500</td>\n",
              "      <td>1.0</td>\n",
              "      <td>-1.000000</td>\n",
              "      <td>...</td>\n",
              "      <td>0.312500</td>\n",
              "      <td>0.375000</td>\n",
              "      <td>-0.125000</td>\n",
              "      <td>0.437500</td>\n",
              "      <td>0.218750</td>\n",
              "      <td>0.750000</td>\n",
              "      <td>0.156250</td>\n",
              "      <td>0.687500</td>\n",
              "      <td>0.062500</td>\n",
              "      <td>0.562500</td>\n",
              "    </tr>\n",
              "    <tr>\n",
              "      <th>7665</th>\n",
              "      <td>0.0</td>\n",
              "      <td>0.0</td>\n",
              "      <td>-0.285714</td>\n",
              "      <td>-0.190476</td>\n",
              "      <td>-0.619048</td>\n",
              "      <td>-0.404762</td>\n",
              "      <td>-0.857143</td>\n",
              "      <td>-0.571429</td>\n",
              "      <td>-1.0</td>\n",
              "      <td>-0.785714</td>\n",
              "      <td>...</td>\n",
              "      <td>-0.285714</td>\n",
              "      <td>0.190476</td>\n",
              "      <td>-0.023810</td>\n",
              "      <td>0.261905</td>\n",
              "      <td>-0.380952</td>\n",
              "      <td>0.452381</td>\n",
              "      <td>-0.309524</td>\n",
              "      <td>0.428571</td>\n",
              "      <td>-0.142857</td>\n",
              "      <td>0.357143</td>\n",
              "    </tr>\n",
              "    <tr>\n",
              "      <th>7666</th>\n",
              "      <td>0.0</td>\n",
              "      <td>0.0</td>\n",
              "      <td>0.285714</td>\n",
              "      <td>-0.228571</td>\n",
              "      <td>0.628571</td>\n",
              "      <td>-0.428571</td>\n",
              "      <td>0.885714</td>\n",
              "      <td>-0.628571</td>\n",
              "      <td>1.0</td>\n",
              "      <td>-0.914286</td>\n",
              "      <td>...</td>\n",
              "      <td>0.400000</td>\n",
              "      <td>0.285714</td>\n",
              "      <td>-0.028571</td>\n",
              "      <td>0.342857</td>\n",
              "      <td>0.314286</td>\n",
              "      <td>0.657143</td>\n",
              "      <td>0.257143</td>\n",
              "      <td>0.571429</td>\n",
              "      <td>0.171429</td>\n",
              "      <td>0.457143</td>\n",
              "    </tr>\n",
              "    <tr>\n",
              "      <th>7667</th>\n",
              "      <td>0.0</td>\n",
              "      <td>0.0</td>\n",
              "      <td>-0.309524</td>\n",
              "      <td>-0.214286</td>\n",
              "      <td>-0.619048</td>\n",
              "      <td>-0.404762</td>\n",
              "      <td>-0.857143</td>\n",
              "      <td>-0.595238</td>\n",
              "      <td>-1.0</td>\n",
              "      <td>-0.833333</td>\n",
              "      <td>...</td>\n",
              "      <td>-0.285714</td>\n",
              "      <td>0.190476</td>\n",
              "      <td>0.000000</td>\n",
              "      <td>0.238095</td>\n",
              "      <td>-0.380952</td>\n",
              "      <td>0.428571</td>\n",
              "      <td>-0.309524</td>\n",
              "      <td>0.404762</td>\n",
              "      <td>-0.142857</td>\n",
              "      <td>0.333333</td>\n",
              "    </tr>\n",
              "    <tr>\n",
              "      <th>7668</th>\n",
              "      <td>0.0</td>\n",
              "      <td>0.0</td>\n",
              "      <td>0.242424</td>\n",
              "      <td>-0.242424</td>\n",
              "      <td>0.606061</td>\n",
              "      <td>-0.393939</td>\n",
              "      <td>0.848485</td>\n",
              "      <td>-0.606061</td>\n",
              "      <td>1.0</td>\n",
              "      <td>-0.909091</td>\n",
              "      <td>...</td>\n",
              "      <td>0.393939</td>\n",
              "      <td>0.363636</td>\n",
              "      <td>-0.030303</td>\n",
              "      <td>0.424242</td>\n",
              "      <td>0.303030</td>\n",
              "      <td>0.787879</td>\n",
              "      <td>0.242424</td>\n",
              "      <td>0.666667</td>\n",
              "      <td>0.151515</td>\n",
              "      <td>0.545455</td>\n",
              "    </tr>\n",
              "  </tbody>\n",
              "</table>\n",
              "<p>7669 rows × 42 columns</p>\n",
              "</div>"
            ],
            "text/plain": [
              "       1    2         3         4         5         6         7         8   \\\n",
              "0     0.0  0.0  0.315789 -0.184211  0.657895 -0.421053  0.842105 -0.631579   \n",
              "1     0.0  0.0 -0.272727 -0.204545 -0.590909 -0.386364 -0.818182 -0.522727   \n",
              "2     0.0  0.0  0.289474 -0.184211  0.631579 -0.394737  0.842105 -0.605263   \n",
              "3     0.0  0.0 -0.295455 -0.204545 -0.590909 -0.409091 -0.818182 -0.545455   \n",
              "4     0.0  0.0  0.315789 -0.210526  0.631579 -0.394737  0.842105 -0.605263   \n",
              "...   ...  ...       ...       ...       ...       ...       ...       ...   \n",
              "7664  0.0  0.0  0.281250 -0.250000  0.625000 -0.437500  0.843750 -0.687500   \n",
              "7665  0.0  0.0 -0.285714 -0.190476 -0.619048 -0.404762 -0.857143 -0.571429   \n",
              "7666  0.0  0.0  0.285714 -0.228571  0.628571 -0.428571  0.885714 -0.628571   \n",
              "7667  0.0  0.0 -0.309524 -0.214286 -0.619048 -0.404762 -0.857143 -0.595238   \n",
              "7668  0.0  0.0  0.242424 -0.242424  0.606061 -0.393939  0.848485 -0.606061   \n",
              "\n",
              "       9         10  ...        33        34        35        36        37  \\\n",
              "0     1.0 -0.868421  ...  0.263158  0.105263 -0.078947  0.052632  0.210526   \n",
              "1    -1.0 -0.704545  ... -0.363636  0.136364 -0.068182  0.090909 -0.431818   \n",
              "2     1.0 -0.842105  ...  0.210526  0.131579 -0.105263  0.078947  0.157895   \n",
              "3    -1.0 -0.727273  ... -0.363636  0.090909 -0.090909  0.068182 -0.431818   \n",
              "4     1.0 -0.842105  ...  0.236842  0.131579 -0.105263  0.078947  0.184211   \n",
              "...   ...       ...  ...       ...       ...       ...       ...       ...   \n",
              "7664  1.0 -1.000000  ...  0.312500  0.375000 -0.125000  0.437500  0.218750   \n",
              "7665 -1.0 -0.785714  ... -0.285714  0.190476 -0.023810  0.261905 -0.380952   \n",
              "7666  1.0 -0.914286  ...  0.400000  0.285714 -0.028571  0.342857  0.314286   \n",
              "7667 -1.0 -0.833333  ... -0.285714  0.190476  0.000000  0.238095 -0.380952   \n",
              "7668  1.0 -0.909091  ...  0.393939  0.363636 -0.030303  0.424242  0.303030   \n",
              "\n",
              "            38        39        40        41        42  \n",
              "0     0.315789  0.157895  0.315789  0.052632  0.236842  \n",
              "1     0.272727 -0.363636  0.295455 -0.250000  0.250000  \n",
              "2     0.368421  0.105263  0.342105  0.000000  0.263158  \n",
              "3     0.250000 -0.363636  0.272727 -0.227273  0.204545  \n",
              "4     0.342105  0.131579  0.315789  0.026316  0.236842  \n",
              "...        ...       ...       ...       ...       ...  \n",
              "7664  0.750000  0.156250  0.687500  0.062500  0.562500  \n",
              "7665  0.452381 -0.309524  0.428571 -0.142857  0.357143  \n",
              "7666  0.657143  0.257143  0.571429  0.171429  0.457143  \n",
              "7667  0.428571 -0.309524  0.404762 -0.142857  0.333333  \n",
              "7668  0.787879  0.242424  0.666667  0.151515  0.545455  \n",
              "\n",
              "[7669 rows x 42 columns]"
            ]
          },
          "execution_count": 7,
          "metadata": {},
          "output_type": "execute_result"
        }
      ],
      "source": [
        "X = data.iloc[:,1:]\n",
        "X"
      ]
    },
    {
      "cell_type": "code",
      "execution_count": 8,
      "metadata": {
        "id": "C6Fev9pFNPA4"
      },
      "outputs": [],
      "source": [
        "enc = LabelEncoder()"
      ]
    },
    {
      "cell_type": "code",
      "execution_count": 9,
      "metadata": {
        "colab": {
          "base_uri": "https://localhost:8080/"
        },
        "id": "GptfpfFZQ859",
        "outputId": "d8dcef55-f4b7-4b8b-adfb-2066770dd343"
      },
      "outputs": [
        {
          "name": "stderr",
          "output_type": "stream",
          "text": [
            "/Users/macbook/.pyenv/versions/3.8.12/lib/python3.8/site-packages/sklearn/preprocessing/_label.py:114: DataConversionWarning: A column-vector y was passed when a 1d array was expected. Please change the shape of y to (n_samples, ), for example using ravel().\n",
            "  y = column_or_1d(y, warn=True)\n"
          ]
        },
        {
          "data": {
            "text/plain": [
              "array([0, 0, 0, ..., 0, 0, 0])"
            ]
          },
          "execution_count": 9,
          "metadata": {},
          "output_type": "execute_result"
        }
      ],
      "source": [
        "y = enc.fit_transform(data[[0]])\n",
        "y"
      ]
    },
    {
      "cell_type": "code",
      "execution_count": 10,
      "metadata": {
        "colab": {
          "base_uri": "https://localhost:8080/"
        },
        "id": "mXeK_Oh3lSGo",
        "outputId": "fd14d294-df98-4171-e4e1-da13d0c98ada"
      },
      "outputs": [
        {
          "name": "stdout",
          "output_type": "stream",
          "text": [
            "[0 0 0 ... 0 0 0]\n"
          ]
        }
      ],
      "source": [
        "print(y)"
      ]
    },
    {
      "cell_type": "code",
      "execution_count": 22,
      "metadata": {
        "id": "-725RwgrSiLh"
      },
      "outputs": [],
      "source": [
        "from keras.callbacks import EarlyStopping\n",
        "# es = EarlyStopping(monitor='val_loss', mode='min', verbose=1, patience=2)\n",
        "es = EarlyStopping(monitor='val_loss', patience=15, restore_best_weights=True)"
      ]
    },
    {
      "cell_type": "code",
      "execution_count": 46,
      "metadata": {
        "id": "MoP6X2dFXtaq"
      },
      "outputs": [],
      "source": [
        "# X_train, X_test, y_train, y_test = train_test_split(\n",
        "#     X, y, test_size=0.2, random_state=42)\n",
        "\n",
        "X_train, X_temp, y_train, y_temp = train_test_split(X, y, test_size=0.3, random_state=42)\n",
        "\n",
        "X_val, X_test, y_val, y_test = train_test_split(X_temp, y_temp, test_size=0.5, random_state=42)"
      ]
    },
    {
      "cell_type": "code",
      "execution_count": 75,
      "metadata": {
        "id": "fwYKKiYKUDMp"
      },
      "outputs": [],
      "source": [
        "# model = keras.Sequential([\n",
        "#     layers.Dense(1470, activation='relu'),\n",
        "#     layers.Dropout(0.5),\n",
        "#     layers.Dense(832, activation='relu'),\n",
        "#     layers.Dropout(0.5),\n",
        "#     layers.Dense(428, activation='relu'),\n",
        "#     layers.Dropout(0.5),\n",
        "#     layers.Dense(264, activation='relu'),\n",
        "#     layers.Dropout(0.5),\n",
        "#     layers.Dense(35, activation='softmax')\n",
        "# ])\n",
        "\n",
        "from tensorflow.keras import layers, models\n",
        "\n",
        "model = models.Sequential([\n",
        "    layers.Dense(50, activation='relu'),\n",
        "    layers.Dropout(0.1),\n",
        "    layers.Dense(35, activation='softmax')\n",
        "])"
      ]
    },
    {
      "cell_type": "code",
      "execution_count": 76,
      "metadata": {
        "id": "RZKhTkEfYd6i"
      },
      "outputs": [],
      "source": [
        "model.compile(loss = \"sparse_categorical_crossentropy\", optimizer = \"adam\", metrics=[\"accuracy\"])"
      ]
    },
    {
      "cell_type": "code",
      "execution_count": 77,
      "metadata": {
        "colab": {
          "base_uri": "https://localhost:8080/"
        },
        "id": "mLfTS486YqiG",
        "outputId": "4465dc13-0e94-4a54-d1b5-bb4c84e82635"
      },
      "outputs": [
        {
          "name": "stdout",
          "output_type": "stream",
          "text": [
            "Epoch 1/30\n",
            "42/42 [==============================] - 0s 3ms/step - loss: 2.5100 - accuracy: 0.5518 - val_loss: 1.5071 - val_accuracy: 0.8400\n",
            "Epoch 2/30\n",
            "42/42 [==============================] - 0s 924us/step - loss: 0.8771 - accuracy: 0.9240 - val_loss: 0.4175 - val_accuracy: 1.0000\n",
            "Epoch 3/30\n",
            "42/42 [==============================] - 0s 916us/step - loss: 0.3041 - accuracy: 0.9791 - val_loss: 0.1880 - val_accuracy: 1.0000\n",
            "Epoch 4/30\n",
            "42/42 [==============================] - 0s 945us/step - loss: 0.1682 - accuracy: 0.9903 - val_loss: 0.1072 - val_accuracy: 1.0000\n",
            "Epoch 5/30\n",
            "42/42 [==============================] - 0s 936us/step - loss: 0.1080 - accuracy: 0.9948 - val_loss: 0.0672 - val_accuracy: 1.0000\n",
            "Epoch 6/30\n",
            "42/42 [==============================] - 0s 941us/step - loss: 0.0728 - accuracy: 0.9980 - val_loss: 0.0453 - val_accuracy: 1.0000\n",
            "Epoch 7/30\n",
            "42/42 [==============================] - 0s 950us/step - loss: 0.0533 - accuracy: 0.9985 - val_loss: 0.0319 - val_accuracy: 1.0000\n",
            "Epoch 8/30\n",
            "42/42 [==============================] - 0s 930us/step - loss: 0.0387 - accuracy: 0.9993 - val_loss: 0.0234 - val_accuracy: 1.0000\n",
            "Epoch 9/30\n",
            "42/42 [==============================] - 0s 958us/step - loss: 0.0311 - accuracy: 0.9993 - val_loss: 0.0177 - val_accuracy: 1.0000\n",
            "Epoch 10/30\n",
            "42/42 [==============================] - 0s 943us/step - loss: 0.0240 - accuracy: 0.9993 - val_loss: 0.0138 - val_accuracy: 1.0000\n",
            "Epoch 11/30\n",
            "42/42 [==============================] - 0s 931us/step - loss: 0.0207 - accuracy: 0.9994 - val_loss: 0.0111 - val_accuracy: 1.0000\n",
            "Epoch 12/30\n",
            "42/42 [==============================] - 0s 929us/step - loss: 0.0169 - accuracy: 0.9994 - val_loss: 0.0090 - val_accuracy: 1.0000\n",
            "Epoch 13/30\n",
            "42/42 [==============================] - 0s 901us/step - loss: 0.0148 - accuracy: 0.9994 - val_loss: 0.0074 - val_accuracy: 1.0000\n",
            "Epoch 14/30\n",
            "42/42 [==============================] - 0s 898us/step - loss: 0.0124 - accuracy: 0.9994 - val_loss: 0.0062 - val_accuracy: 1.0000\n",
            "Epoch 15/30\n",
            "42/42 [==============================] - 0s 926us/step - loss: 0.0113 - accuracy: 0.9994 - val_loss: 0.0053 - val_accuracy: 1.0000\n",
            "Epoch 16/30\n",
            "42/42 [==============================] - 0s 934us/step - loss: 0.0098 - accuracy: 0.9993 - val_loss: 0.0046 - val_accuracy: 1.0000\n",
            "Epoch 17/30\n",
            "42/42 [==============================] - 0s 933us/step - loss: 0.0087 - accuracy: 0.9994 - val_loss: 0.0040 - val_accuracy: 1.0000\n",
            "Epoch 18/30\n",
            "42/42 [==============================] - 0s 954us/step - loss: 0.0083 - accuracy: 0.9994 - val_loss: 0.0035 - val_accuracy: 1.0000\n",
            "Epoch 19/30\n",
            "42/42 [==============================] - 0s 955us/step - loss: 0.0075 - accuracy: 0.9994 - val_loss: 0.0031 - val_accuracy: 1.0000\n",
            "Epoch 20/30\n",
            "42/42 [==============================] - 0s 926us/step - loss: 0.0065 - accuracy: 0.9994 - val_loss: 0.0027 - val_accuracy: 1.0000\n",
            "Epoch 21/30\n",
            "42/42 [==============================] - 0s 912us/step - loss: 0.0066 - accuracy: 0.9994 - val_loss: 0.0024 - val_accuracy: 1.0000\n",
            "Epoch 22/30\n",
            "42/42 [==============================] - 0s 898us/step - loss: 0.0058 - accuracy: 0.9994 - val_loss: 0.0022 - val_accuracy: 1.0000\n",
            "Epoch 23/30\n",
            "42/42 [==============================] - 0s 896us/step - loss: 0.0053 - accuracy: 0.9994 - val_loss: 0.0019 - val_accuracy: 1.0000\n",
            "Epoch 24/30\n",
            "42/42 [==============================] - 0s 907us/step - loss: 0.0048 - accuracy: 0.9994 - val_loss: 0.0017 - val_accuracy: 1.0000\n",
            "Epoch 25/30\n",
            "42/42 [==============================] - 0s 903us/step - loss: 0.0043 - accuracy: 0.9994 - val_loss: 0.0015 - val_accuracy: 1.0000\n",
            "Epoch 26/30\n",
            "42/42 [==============================] - 0s 895us/step - loss: 0.0037 - accuracy: 0.9996 - val_loss: 0.0014 - val_accuracy: 1.0000\n",
            "Epoch 27/30\n",
            "42/42 [==============================] - 0s 901us/step - loss: 0.0038 - accuracy: 0.9994 - val_loss: 0.0012 - val_accuracy: 1.0000\n",
            "Epoch 28/30\n",
            "42/42 [==============================] - 0s 1ms/step - loss: 0.0032 - accuracy: 0.9996 - val_loss: 0.0011 - val_accuracy: 1.0000\n",
            "Epoch 29/30\n",
            "42/42 [==============================] - 0s 1ms/step - loss: 0.0027 - accuracy: 0.9996 - val_loss: 9.3364e-04 - val_accuracy: 1.0000\n",
            "Epoch 30/30\n",
            "42/42 [==============================] - 0s 1ms/step - loss: 0.0026 - accuracy: 0.9998 - val_loss: 8.2898e-04 - val_accuracy: 1.0000\n"
          ]
        },
        {
          "data": {
            "text/plain": [
              "<keras.src.callbacks.History at 0x31e29efd0>"
            ]
          },
          "execution_count": 77,
          "metadata": {},
          "output_type": "execute_result"
        }
      ],
      "source": [
        "model.fit(X_train, y_train, epochs = 30, batch_size = 128, validation_data=(X_val, y_val), callbacks=[es])"
      ]
    },
    {
      "cell_type": "code",
      "execution_count": 78,
      "metadata": {
        "colab": {
          "base_uri": "https://localhost:8080/"
        },
        "id": "APJrH5DCZPVz",
        "outputId": "e76defc1-3779-4590-ffc8-b2de65864047"
      },
      "outputs": [
        {
          "name": "stdout",
          "output_type": "stream",
          "text": [
            "Test Loss: 0.0024764626286923885, Test Accuracy: 0.9991312026977539\n"
          ]
        }
      ],
      "source": [
        "test_loss, test_acc = model.evaluate(X_test, y_test, verbose = 0)\n",
        "print(f\"Test Loss: {test_loss}, Test Accuracy: {test_acc}\")"
      ]
    },
    {
      "cell_type": "code",
      "execution_count": 79,
      "metadata": {
        "colab": {
          "base_uri": "https://localhost:8080/"
        },
        "id": "PMScXAuychzn",
        "outputId": "421238f9-dbfb-4be5-bad7-da5fdbf9dce9"
      },
      "outputs": [
        {
          "name": "stdout",
          "output_type": "stream",
          "text": [
            "36/36 [==============================] - 0s 318us/step\n",
            "Accuracy: 0.9991311902693311\n",
            "Precision: 0.9994775339602926\n",
            "Recall: 0.999001996007984\n",
            "F1-score: 0.9992388119665657\n"
          ]
        }
      ],
      "source": [
        "# evaluate the model on the validation set and compute performance metrics\n",
        "y_val_pred = model.predict(X_test)\n",
        "y_val_pred_classes = np.argmax(y_val_pred, axis=1)\n",
        "acc = accuracy_score(y_test, y_val_pred_classes)\n",
        "prec = precision_score(y_test, y_val_pred_classes, average='macro')\n",
        "rec = recall_score(y_test, y_val_pred_classes, average='macro')\n",
        "f1 = f1_score(y_test, y_val_pred_classes, average='macro')\n",
        "print(\"Accuracy:\", acc)\n",
        "print(\"Precision:\", prec)\n",
        "print(\"Recall:\", rec)\n",
        "print(\"F1-score:\", f1)"
      ]
    },
    {
      "cell_type": "code",
      "execution_count": null,
      "metadata": {
        "id": "yphwMRARaZVL"
      },
      "outputs": [],
      "source": [
        "model.save(\"model_copy.h5\")"
      ]
    }
  ],
  "metadata": {
    "colab": {
      "provenance": []
    },
    "kernelspec": {
      "display_name": "Python 3",
      "name": "python3"
    },
    "language_info": {
      "codemirror_mode": {
        "name": "ipython",
        "version": 3
      },
      "file_extension": ".py",
      "mimetype": "text/x-python",
      "name": "python",
      "nbconvert_exporter": "python",
      "pygments_lexer": "ipython3",
      "version": "3.8.12"
    }
  },
  "nbformat": 4,
  "nbformat_minor": 0
}
